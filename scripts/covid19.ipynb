{
 "cells": [
  {
   "cell_type": "markdown",
   "id": "6df21df3-3c6c-4634-bb40-5cf44e78f8ca",
   "metadata": {},
   "source": [
    "# Package Calling"
   ]
  },
  {
   "cell_type": "code",
   "execution_count": null,
   "id": "5589e205-211e-4352-a042-acd55af26054",
   "metadata": {
    "tags": []
   },
   "outputs": [],
   "source": [
    "import sys\n",
    "\n",
    "sys.path.append(\"../../\")"
   ]
  },
  {
   "cell_type": "code",
   "execution_count": null,
   "id": "4a6ad899-3bbf-4e70-9143-aac54ec93f2b",
   "metadata": {
    "tags": []
   },
   "outputs": [],
   "source": [
    "import datetime as dtt\n",
    "from collections import Counter\n",
    "\n",
    "import matplotlib.pyplot as plt\n",
    "import numpy as np\n",
    "import pandas as pd\n",
    "import seaborn as sns"
   ]
  },
  {
   "cell_type": "markdown",
   "id": "2b6960bd-7b82-4fc8-b1e1-758b965398a6",
   "metadata": {},
   "source": [
    "## Package Settings"
   ]
  },
  {
   "cell_type": "code",
   "execution_count": null,
   "id": "31779c22-b985-4a48-85ee-036984c4d06f",
   "metadata": {
    "tags": []
   },
   "outputs": [],
   "source": [
    "from IPython.core.interactiveshell import InteractiveShell\n",
    "\n",
    "InteractiveShell.ast_node_interactivity = \"all\""
   ]
  },
  {
   "cell_type": "code",
   "execution_count": null,
   "id": "f2fdc27c-daf3-43e7-b173-f31a308b5160",
   "metadata": {
    "tags": []
   },
   "outputs": [],
   "source": [
    "pd.set_option(\"display.max_rows\", 500)\n",
    "pd.set_option(\"display.max_columns\", 500)\n",
    "pd.set_option(\"display.float_format\", lambda x: \"%.3f\" % x)\n",
    "pd.set_option(\"chained_assignment\", None)"
   ]
  },
  {
   "cell_type": "code",
   "execution_count": null,
   "id": "3f23535f-2513-445d-afec-33bb11eb6323",
   "metadata": {
    "tags": []
   },
   "outputs": [],
   "source": [
    "plt.rcParams[\"font.family\"] = [\"Arial Unicode MS\"]  # Chinese Labels\n",
    "plt.rcParams[\"axes.unicode_minus\"] = False  # Minus Sign\n",
    "plt.rcParams[\"figure.max_open_warning\"] = 0\n",
    "\n",
    "sns.set(\n",
    "    style=\"darkgrid\",\n",
    "    rc={\n",
    "        \"figure.figsize\": (12, 6),\n",
    "        \"font.sans-serif\": [\"Arial Unicode MS\", \"Arial\"],\n",
    "    },\n",
    ")"
   ]
  },
  {
   "cell_type": "markdown",
   "id": "740f50fc-5424-402f-a58c-f9da4424398a",
   "metadata": {},
   "source": [
    "## GC Settings"
   ]
  },
  {
   "cell_type": "code",
   "execution_count": null,
   "id": "09e7d4d4-ce5e-459b-a98d-89d1e43bf780",
   "metadata": {
    "tags": []
   },
   "outputs": [],
   "source": [
    "import gc\n",
    "\n",
    "gc.isenabled()\n",
    "gc.get_threshold()"
   ]
  },
  {
   "cell_type": "code",
   "execution_count": null,
   "id": "e40dc901-d1ae-434e-b85d-408ad5df4a04",
   "metadata": {
    "tags": []
   },
   "outputs": [],
   "source": [
    "# gc.set_threshold(10,1,1)\n",
    "# gc.enable()\n",
    "# gc.disable()"
   ]
  },
  {
   "cell_type": "markdown",
   "id": "440c972e-3d3b-4573-9355-53657e26c2de",
   "metadata": {},
   "source": [
    "# Modeling"
   ]
  },
  {
   "cell_type": "code",
   "execution_count": null,
   "id": "d0175a19-dfac-4d9c-85c5-7ac28603a1c6",
   "metadata": {
    "tags": []
   },
   "outputs": [],
   "source": [
    "data_path = \"/Users/chenzhou/Documents/Everything/python/COVID19/data/data_0516_SH.csv\"\n",
    "data_sh = pd.read_csv(\n",
    "    data_path,\n",
    "    dtype={\n",
    "        \"inbound_confirmed\": int,\n",
    "        \"inbound_asymp\": int,\n",
    "        \"outbound_confirmed\": int,\n",
    "        \"outbound_asymp\": int,\n",
    "        \"cure\": int,\n",
    "        \"relieve\": int,\n",
    "    },\n",
    "    parse_dates=[\"date\"],\n",
    ")"
   ]
  },
  {
   "cell_type": "code",
   "execution_count": null,
   "id": "a68deab4-c63f-4ff5-86bb-d7858b0f4287",
   "metadata": {
    "tags": []
   },
   "outputs": [],
   "source": [
    "data_sh[\"confirmed_add\"] = data_sh.inbound_confirmed + data_sh.outbound_confirmed\n",
    "data_sh[\"asymp_add\"] = data_sh.inbound_asymp + data_sh.outbound_asymp\n",
    "data_sh[\"total_add\"] = data_sh.confirmed_add + data_sh.asymp_add\n",
    "\n",
    "data_sh[\"confirmed_acc\"] = data_sh.confirmed_add.cumsum() - 380\n",
    "data_sh[\"asymp_acc\"] = data_sh.asymp_add.cumsum() - 120\n",
    "data_sh[\"total_affected\"] = data_sh.confirmed_acc + data_sh.asymp_acc\n",
    "\n",
    "data_sh = data_sh.loc[data_sh.date >= \"2022-03-01\"].reset_index(drop=True)"
   ]
  },
  {
   "cell_type": "code",
   "execution_count": null,
   "id": "df3ace9b-b9bc-4d97-87cf-e6324decf424",
   "metadata": {
    "scrolled": true,
    "tags": []
   },
   "outputs": [],
   "source": [
    "data_sh"
   ]
  },
  {
   "cell_type": "markdown",
   "id": "21a8ce5c-eb69-4030-8757-7748d79622b6",
   "metadata": {},
   "source": [
    "## Optimize BS Pars Locally"
   ]
  },
  {
   "cell_type": "code",
   "execution_count": null,
   "id": "0c677a21-6873-405c-9283-59d010dfddfc",
   "metadata": {
    "tags": []
   },
   "outputs": [],
   "source": [
    "from covid19 import (\n",
    "    bs_coeff_local_opt,\n",
    "    covid19_seer,\n",
    "    growth_decision,\n",
    "    model_theta_global_opt,\n",
    "    next_pred,\n",
    "    pred_ser,\n",
    "    revise_ser,\n",
    ")"
   ]
  },
  {
   "cell_type": "code",
   "execution_count": null,
   "id": "f8506546-a41b-4b78-84f9-68baa814e35e",
   "metadata": {
    "tags": []
   },
   "outputs": [],
   "source": [
    "bs_interp_prop = 0.5\n",
    "interg_interp_prop = 500.0\n",
    "ser = data_sh.total_affected.iloc[28:].values\n",
    "kappa, mu, tau = 0.6, 1.0, 1.8"
   ]
  },
  {
   "cell_type": "code",
   "execution_count": null,
   "id": "4653bbfb-ef62-4617-842a-9d1022a315e1",
   "metadata": {
    "tags": []
   },
   "outputs": [],
   "source": [
    "labd, lr, decay, iters, early_stop_ratio, early_stop_steps, show_process = (\n",
    "    5.0,\n",
    "    0.02,\n",
    "    0.999,\n",
    "    int(4e2),\n",
    "    [1.1, 0.999],\n",
    "    3,\n",
    "    True,\n",
    ")"
   ]
  },
  {
   "cell_type": "code",
   "execution_count": null,
   "id": "691d9279-95f5-4c05-997a-9c1f060ac658",
   "metadata": {
    "tags": []
   },
   "outputs": [],
   "source": [
    "bs_coeff_local_opt(\n",
    "    ser,\n",
    "    kappa,\n",
    "    mu,\n",
    "    tau,\n",
    "    bs_interp_prop,\n",
    "    interg_interp_prop,\n",
    "    labd,\n",
    "    lr,\n",
    "    decay,\n",
    "    iters,\n",
    "    early_stop_ratio,\n",
    "    early_stop_steps,\n",
    "    show_process,\n",
    "    ser_loss_expansion=0.5,\n",
    ")"
   ]
  },
  {
   "cell_type": "markdown",
   "id": "384a4e82-a1bb-4093-94f2-7d7f88b6101a",
   "metadata": {},
   "source": [
    "## Optimize Theta Globally"
   ]
  },
  {
   "cell_type": "code",
   "execution_count": null,
   "id": "0918aa6a-038a-4df9-8d67-8beb43f4cc39",
   "metadata": {
    "tags": []
   },
   "outputs": [],
   "source": [
    "kappa_init, mu_init, tau_init = 0.59, 1.0, 1.81"
   ]
  },
  {
   "cell_type": "code",
   "execution_count": null,
   "id": "9d591111-be09-468a-bcf7-af87c4c7c2d4",
   "metadata": {
    "tags": []
   },
   "outputs": [],
   "source": [
    "ser = data_sh.total_affected.iloc[28:].values\n",
    "\n",
    "theta_opt, losses, fitted_opt, bs_funcs = model_theta_global_opt(\n",
    "    ser,\n",
    "    kappa_init=kappa_init,\n",
    "    mu_init=mu_init,\n",
    "    tau_init=tau_init,\n",
    "    bs_interp_prop=0.5,\n",
    "    interg_interp_prop=500.0,\n",
    "    labd=5.0,\n",
    "    bs_lr_schedule=(int(4e2), 0.02, 0.999),\n",
    "    theta_lr_schedule=(int(2e2), 0.1, 0.99),\n",
    "    early_stop_ratio=[1.5, 0.999],\n",
    "    early_stop_steps=3,\n",
    "    show_process=\"both\",\n",
    ")"
   ]
  },
  {
   "cell_type": "code",
   "execution_count": null,
   "id": "213e95dd-b78e-4989-8277-00be37b8727e",
   "metadata": {
    "tags": []
   },
   "outputs": [],
   "source": [
    "sns.scatterplot(x=range(len(ser)), y=ser, alpha=1.0, color=\"blue\", s=32)\n",
    "sns.lineplot(\n",
    "    x=range(len(ser)), y=revise_ser(fitted_opt), alpha=0.8, color=\"yellow\", linewidth=4\n",
    ")"
   ]
  },
  {
   "cell_type": "markdown",
   "id": "dcba2bf9-7d57-4e3a-aab1-1ee03102e25a",
   "metadata": {},
   "source": [
    "# Application on SZ"
   ]
  },
  {
   "cell_type": "code",
   "execution_count": null,
   "id": "b65add3d-3d0e-45f0-aa6b-134b28908d6d",
   "metadata": {
    "tags": []
   },
   "outputs": [],
   "source": [
    "data_sz = pd.read_csv(\n",
    "    \"/Users/chenzhou/Documents/Everything/python/COVID19/data/covid19_shenzhen.csv\",\n",
    "    dtype={\n",
    "        \"week_group\": int,\n",
    "        \"adt\": int,\n",
    "        \"imputed_adt\": float,\n",
    "        \"adt_prop\": float,\n",
    "        \"store_cnt\": int,\n",
    "        \"cfm_cases\": pd.Int64Dtype(),\n",
    "        \"asym_cases\": pd.Int64Dtype(),\n",
    "        \"covid_group\": int,\n",
    "    },\n",
    "    parse_dates=[\"date\"],\n",
    ")\n",
    "# data_sz.fillna(0, inplace=True)\n",
    "data_sz[\"total_add\"] = data_sz.cfm_cases + data_sz.asym_cases"
   ]
  },
  {
   "cell_type": "code",
   "execution_count": null,
   "id": "84b8842d-127f-4512-80a1-6b495f23ac83",
   "metadata": {
    "tags": []
   },
   "outputs": [],
   "source": [
    "data_modeling = data_sz.loc[\n",
    "    # data_sz.week_group.isin(range(56, 78))\n",
    "    data_sz.week_group.isin(range(126, 130))\n",
    "    # data_sz.week_group.isin(range(162, 170))\n",
    "]  # data_sz.covid_group.isin([2])\n",
    "shifting = 0\n",
    "data_modeling[\"total_affected\"] = data_modeling.total_add.cumsum() + shifting"
   ]
  },
  {
   "cell_type": "code",
   "execution_count": null,
   "id": "eb578e5c-2acd-4778-b18c-e1a1281bd640",
   "metadata": {
    "tags": []
   },
   "outputs": [],
   "source": [
    "data_modeling"
   ]
  },
  {
   "cell_type": "code",
   "execution_count": null,
   "id": "bc30424a-6afd-4780-a74f-5a945b676663",
   "metadata": {
    "tags": []
   },
   "outputs": [],
   "source": [
    "ser = np.concatenate([[0] * 0, data_modeling.total_affected.iloc[7:].values])\n",
    "kappa_init, mu_init, tau_init = 0.72, 0.76, 1.43\n",
    "\n",
    "bs_coeff_local_opt(\n",
    "    ser,\n",
    "    kappa=kappa_init,\n",
    "    mu=mu_init,\n",
    "    tau=tau_init,\n",
    "    bs_interp_prop=0.5,\n",
    "    interg_interp_prop=200.0,\n",
    "    labd=5.0,\n",
    "    lr=0.02,\n",
    "    decay=0.999,\n",
    "    iters=int(4e2),\n",
    "    early_stop_ratio=[1.2, 0.9999],\n",
    "    early_stop_steps=3,\n",
    "    show_process=True,\n",
    "    ser_loss_expansion=0.1,\n",
    ")"
   ]
  },
  {
   "cell_type": "code",
   "execution_count": null,
   "id": "fd4ef44b-19e8-40cd-b6e3-155afccb8d4c",
   "metadata": {
    "tags": []
   },
   "outputs": [],
   "source": [
    "theta_opt"
   ]
  },
  {
   "cell_type": "code",
   "execution_count": null,
   "id": "fb1beb11-8542-4fca-a3cd-276835c652b8",
   "metadata": {
    "scrolled": true,
    "tags": []
   },
   "outputs": [],
   "source": [
    "# 2020 56 + 4w 0.5794437  1.0217819  1.60897016\n",
    "# 2021 127 + 3w 0.60308749, 1.02070991, 1.72955825\n",
    "# 2022 163 + 7w 0.61065746, 1.02502465, 1.57269699\n",
    "\n",
    "kappa_init, mu_init, tau_init = 0.60, 1.02, 1.64\n",
    "\n",
    "theta_opt, losses, fitted_opt, bs_funcs = model_theta_global_opt(\n",
    "    ser,\n",
    "    kappa_init=kappa_init,\n",
    "    mu_init=mu_init,\n",
    "    tau_init=tau_init,\n",
    "    bs_interp_prop=0.5,\n",
    "    interg_interp_prop=200.0,\n",
    "    labd=5.0,\n",
    "    bs_lr_schedule=(int(4e2), 0.02, 0.999),\n",
    "    theta_lr_schedule=(int(5e2), 0.01, 0.9),\n",
    "    early_stop_ratio=[2.0, 0.999],\n",
    "    early_stop_steps=20,\n",
    "    show_process=\"outer\",\n",
    "    ser_loss_expansion=0.5,\n",
    ")"
   ]
  },
  {
   "cell_type": "code",
   "execution_count": null,
   "id": "9b546c19-3dff-4c84-856b-6017d4390759",
   "metadata": {
    "tags": []
   },
   "outputs": [],
   "source": [
    "sns.scatterplot(x=range(len(ser)), y=ser, alpha=1.0, color=\"blue\", s=32)\n",
    "sns.lineplot(\n",
    "    x=range(len(ser)), y=revise_ser(fitted_opt), alpha=0.8, color=\"yellow\", linewidth=4\n",
    ")"
   ]
  },
  {
   "cell_type": "markdown",
   "id": "16d671e1-c8ad-4720-8b23-00dcb33bea53",
   "metadata": {},
   "source": [
    "## Prediction"
   ]
  },
  {
   "cell_type": "code",
   "execution_count": null,
   "id": "0270943f-226b-49ed-b772-92bea2097f9b",
   "metadata": {
    "tags": []
   },
   "outputs": [],
   "source": [
    "pred_len = 30\n",
    "pred_interp = 10\n",
    "pred_prev_len = 2\n",
    "fitted_ser = revise_ser(fitted_opt)\n",
    "pred_ser_combo = pred_ser(fitted_ser, pred_len, pred_interp, pred_prev_len, theta_opt)\n",
    "pred_series = pred_ser_combo[pred_interp * pred_prev_len :][::pred_interp]\n",
    "pred_series = revise_ser(pred_series, intercept=pred_series[0])"
   ]
  },
  {
   "cell_type": "code",
   "execution_count": null,
   "id": "353e4fef-2018-45fe-b907-8029793a3abe",
   "metadata": {
    "tags": []
   },
   "outputs": [],
   "source": [
    "sns.scatterplot(x=range(len(fitted_ser)), y=ser, alpha=1.0, color=\"blue\", s=32)\n",
    "sns.lineplot(\n",
    "    x=range(len(fitted_ser)), y=fitted_ser, alpha=0.8, color=\"yellow\", linewidth=4\n",
    ")\n",
    "sns.lineplot(\n",
    "    x=range(len(fitted_ser) - 1, len(fitted_ser) + pred_len),\n",
    "    y=pred_series,\n",
    "    alpha=0.8,\n",
    "    color=\"green\",\n",
    "    linewidth=4,\n",
    ")"
   ]
  },
  {
   "cell_type": "code",
   "execution_count": null,
   "id": "e3f753ab-a5f0-43d2-8eab-4a629f934f4e",
   "metadata": {
    "tags": []
   },
   "outputs": [],
   "source": [
    "growth_decision(fitted_ser, theta_opt)"
   ]
  },
  {
   "cell_type": "markdown",
   "id": "51ea3976-0f55-44eb-bfa3-dd982a7e1470",
   "metadata": {},
   "source": [
    "## Integration"
   ]
  },
  {
   "cell_type": "code",
   "execution_count": null,
   "id": "95e2b9e7-a82d-4573-986b-0cba03347d38",
   "metadata": {
    "tags": []
   },
   "outputs": [],
   "source": [
    "theta_city = 0.60, 1.02, 1.64"
   ]
  },
  {
   "cell_type": "code",
   "execution_count": null,
   "id": "c680f43b-a4be-4c9a-ab1a-4bbdd10b033f",
   "metadata": {
    "tags": []
   },
   "outputs": [],
   "source": [
    "gt = data_modeling.total_affected.iloc[:].values\n",
    "ser = gt[:19]\n",
    "sns.scatterplot(x=range(len(gt)), y=gt, alpha=1.0, color=\"blue\", s=32)\n",
    "sns.scatterplot(x=range(len(ser)), y=ser, alpha=0.5, color=\"red\", s=32)"
   ]
  },
  {
   "cell_type": "code",
   "execution_count": null,
   "id": "1b3f82fb-e779-44f9-b9ec-2e976bcd0a54",
   "metadata": {
    "tags": []
   },
   "outputs": [],
   "source": [
    "growth_flag, turning_point, stop_point, seer_ser = covid19_seer(\n",
    "    ser, \"LOCKDOWN\", theta_city\n",
    ")"
   ]
  },
  {
   "cell_type": "code",
   "execution_count": null,
   "id": "678d275d-a2ba-41d3-be8b-5128dc6f424f",
   "metadata": {
    "tags": []
   },
   "outputs": [],
   "source": [
    "growth_flag, turning_point, stop_point, seer_ser"
   ]
  },
  {
   "cell_type": "code",
   "execution_count": null,
   "id": "76feb672-13b9-448e-a00e-50d37c54048e",
   "metadata": {
    "tags": []
   },
   "outputs": [],
   "source": [
    "sns.scatterplot(x=range(len(gt)), y=gt, alpha=1.0, color=\"blue\", s=32)\n",
    "sns.lineplot(x=range(len(seer_ser)), y=seer_ser, alpha=0.8, color=\"yellow\", linewidth=4)"
   ]
  },
  {
   "cell_type": "markdown",
   "id": "bfd6c87f-dc1c-4df8-a1ee-3d9e7326767d",
   "metadata": {},
   "source": [
    "## Yearly Covid19"
   ]
  },
  {
   "cell_type": "markdown",
   "id": "24fdc079-0979-4cba-bbce-71e37f761605",
   "metadata": {},
   "source": [
    "### 2020"
   ]
  },
  {
   "cell_type": "markdown",
   "id": "ed63f99a-d0cf-4880-ab99-1e0dedbbae82",
   "metadata": {},
   "source": [
    "#### Lockdown"
   ]
  },
  {
   "cell_type": "code",
   "execution_count": null,
   "id": "7fa36a06-edc4-4d22-a29c-9780f7e49438",
   "metadata": {
    "scrolled": true,
    "tags": []
   },
   "outputs": [],
   "source": [
    "data_modeling = (\n",
    "    data_sz.loc[\n",
    "        data_sz.week_group.isin(range(56, 60))\n",
    "        # data_sz.week_group.isin(range(126, 130))\n",
    "        # data_sz.week_group.isin(range(162, 170))\n",
    "    ]\n",
    "    .sort_values([\"date\"])\n",
    "    .reset_index(drop=True)\n",
    ")\n",
    "shifting = 0\n",
    "data_modeling.fillna(0.0, inplace=True)\n",
    "data_modeling[\"total_affected\"] = data_modeling.total_add.cumsum() + shifting\n",
    "data_modeling"
   ]
  },
  {
   "cell_type": "code",
   "execution_count": null,
   "id": "d12688bf-7839-44e5-9202-df7d89168652",
   "metadata": {
    "tags": []
   },
   "outputs": [],
   "source": [
    "gt = data_modeling.iloc[:]\n",
    "ser = gt.iloc[:]\n",
    "sns.scatterplot(x=gt.date, y=gt.total_affected, alpha=1.0, color=\"blue\", s=32)\n",
    "sns.scatterplot(x=ser.date, y=ser.total_affected, alpha=0.5, color=\"red\", s=32)\n",
    "_ = plt.xticks(gt.date, rotation=90)"
   ]
  },
  {
   "cell_type": "code",
   "execution_count": null,
   "id": "b01be33a-9a00-4501-9427-30ec41968be4",
   "metadata": {
    "tags": []
   },
   "outputs": [],
   "source": [
    "lock_down_pred_list = []\n",
    "for _pred_date in data_modeling.date.iloc[3:-7]:\n",
    "    growth_flag, turning_point, stop_point, seer_ser = covid19_seer(\n",
    "        data_modeling.loc[data_modeling.date <= _pred_date].total_affected.values,\n",
    "        \"LOCKDOWN\",\n",
    "        theta_city,\n",
    "        five_day_filter=10,\n",
    "    )\n",
    "    if stop_point is not None:\n",
    "        lock_down_pred_list.append(\n",
    "            [\n",
    "                _pred_date,\n",
    "                data_modeling.date.iloc[0] + dtt.timedelta(days=int(stop_point)),\n",
    "                1,\n",
    "            ]\n",
    "        )\n",
    "    else:\n",
    "        stop_point = 5\n",
    "    for _p in range(stop_point):\n",
    "        lock_down_pred_list.append(\n",
    "            [_pred_date, data_modeling.date.iloc[0] + dtt.timedelta(days=int(_p)), 0]\n",
    "        )"
   ]
  },
  {
   "cell_type": "code",
   "execution_count": null,
   "id": "0bb96c3a-2e12-47fb-8606-072f0e321212",
   "metadata": {
    "tags": []
   },
   "outputs": [],
   "source": [
    "heat_map_df = pd.DataFrame(\n",
    "    lock_down_pred_list, columns=[\"pred_date\", \"zero_date\", \"flag\"]\n",
    ")\n",
    "heat_map_df[\"pred_date\"] = heat_map_df[\"pred_date\"].dt.date\n",
    "heat_map_df[\"zero_date\"] = heat_map_df[\"zero_date\"].dt.date\n",
    "\n",
    "sns.heatmap(\n",
    "    pd.pivot_table(\n",
    "        heat_map_df,\n",
    "        index=\"pred_date\",\n",
    "        columns=\"zero_date\",\n",
    "        values=\"flag\",\n",
    "        fill_value=0,\n",
    "        aggfunc=\"max\",\n",
    "    ),\n",
    "    cmap=sns.cubehelix_palette(\n",
    "        start=2, rot=0, dark=0, light=0.95, reverse=False, as_cmap=True\n",
    "    ),\n",
    "    center=1.0,\n",
    "    linewidths=1,\n",
    ")"
   ]
  },
  {
   "cell_type": "markdown",
   "id": "38acb7d4-86da-4ede-b0dd-ef2dcb42d1da",
   "metadata": {},
   "source": [
    "### 2021"
   ]
  },
  {
   "cell_type": "markdown",
   "id": "2485a332-358e-48cf-bd95-62e2ac2ef95c",
   "metadata": {},
   "source": [
    "#### Warning"
   ]
  },
  {
   "cell_type": "code",
   "execution_count": null,
   "id": "ae469a77-c02a-49e1-806d-0bda1d4a2b1c",
   "metadata": {
    "scrolled": true,
    "tags": []
   },
   "outputs": [],
   "source": [
    "data_modeling = (\n",
    "    data_sz.loc[\n",
    "        # data_sz.week_group.isin(range(56, 60))\n",
    "        data_sz.week_group.isin(range(127, 131))\n",
    "        # data_sz.week_group.isin(range(162, 170))\n",
    "    ]\n",
    "    .sort_values([\"date\"])\n",
    "    .reset_index(drop=True)\n",
    ")\n",
    "shifting = 0\n",
    "data_modeling.fillna(0.0, inplace=True)\n",
    "data_modeling[\"total_affected\"] = data_modeling.total_add.cumsum() + shifting\n",
    "data_modeling"
   ]
  },
  {
   "cell_type": "code",
   "execution_count": null,
   "id": "aedea9cd-cdd7-420a-9332-fb35d26f1a9f",
   "metadata": {
    "tags": []
   },
   "outputs": [],
   "source": [
    "gt = data_modeling.iloc[:]\n",
    "ser = gt.iloc[:]\n",
    "sns.scatterplot(x=gt.date, y=gt.total_affected, alpha=1.0, color=\"blue\", s=32)\n",
    "sns.scatterplot(x=ser.date, y=ser.total_affected, alpha=0.5, color=\"red\", s=32)\n",
    "_ = plt.xticks(gt.date, rotation=90)"
   ]
  },
  {
   "cell_type": "code",
   "execution_count": null,
   "id": "64bc1dc1-c98d-421e-8054-d26bc4a09114",
   "metadata": {
    "tags": []
   },
   "outputs": [],
   "source": [
    "warning_pred_list = []\n",
    "for _pred_date in data_modeling.date.iloc[3:-7]:\n",
    "    print(_pred_date)\n",
    "    growth_flag, turning_point, stop_point, seer_ser = covid19_seer(\n",
    "        data_modeling.loc[data_modeling.date <= _pred_date].total_affected.values,\n",
    "        \"WARNING\",\n",
    "        theta_city,\n",
    "        five_day_filter=15,\n",
    "    )\n",
    "    if turning_point is not None:\n",
    "        warning_pred_list.append(\n",
    "            [\n",
    "                _pred_date,\n",
    "                data_modeling.date.iloc[0] + dtt.timedelta(days=int(turning_point)),\n",
    "                2,\n",
    "            ]\n",
    "        )\n",
    "    else:\n",
    "        turning_point = 5\n",
    "    for _p in range(turning_point):\n",
    "        warning_pred_list.append(\n",
    "            [\n",
    "                _pred_date,\n",
    "                data_modeling.date.iloc[0] + dtt.timedelta(days=int(_p)),\n",
    "                0,\n",
    "            ]\n",
    "        )\n",
    "\n",
    "    if stop_point is not None:\n",
    "        warning_pred_list.append(\n",
    "            [\n",
    "                _pred_date,\n",
    "                data_modeling.date.iloc[0] + dtt.timedelta(days=int(stop_point)),\n",
    "                1,\n",
    "            ]\n",
    "        )\n",
    "    else:\n",
    "        stop_point = 5\n",
    "    for _p in range(stop_point):\n",
    "        warning_pred_list.append(\n",
    "            [\n",
    "                _pred_date,\n",
    "                data_modeling.date.iloc[0] + dtt.timedelta(days=int(_p)),\n",
    "                0,\n",
    "            ]\n",
    "        )"
   ]
  },
  {
   "cell_type": "code",
   "execution_count": null,
   "id": "255b1ca3-8625-4701-9037-ebbca39a68a1",
   "metadata": {
    "tags": []
   },
   "outputs": [],
   "source": [
    "heat_map_df = pd.DataFrame(\n",
    "    warning_pred_list, columns=[\"pred_date\", \"zero_date\", \"flag\"]\n",
    ")\n",
    "heat_map_df[\"pred_date\"] = heat_map_df[\"pred_date\"].dt.date\n",
    "heat_map_df[\"zero_date\"] = heat_map_df[\"zero_date\"].dt.date\n",
    "\n",
    "sns.heatmap(\n",
    "    pd.pivot_table(\n",
    "        heat_map_df,\n",
    "        index=\"pred_date\",\n",
    "        columns=\"zero_date\",\n",
    "        values=\"flag\",\n",
    "        aggfunc=\"max\",\n",
    "        fill_value=0,\n",
    "    ),\n",
    "    cmap=sns.cubehelix_palette(\n",
    "        start=2, rot=0, dark=0, light=0.95, reverse=False, as_cmap=True\n",
    "    ),\n",
    "    center=1.0,\n",
    "    linewidths=1,\n",
    ")"
   ]
  },
  {
   "cell_type": "markdown",
   "id": "5d73327d-39c8-4ffe-b993-a643b1dd36fd",
   "metadata": {
    "execution": {
     "iopub.execute_input": "2022-11-22T11:57:55.250870Z",
     "iopub.status.busy": "2022-11-22T11:57:55.250301Z",
     "iopub.status.idle": "2022-11-22T11:57:55.257406Z",
     "shell.execute_reply": "2022-11-22T11:57:55.256202Z",
     "shell.execute_reply.started": "2022-11-22T11:57:55.250837Z"
    }
   },
   "source": [
    "### 2022"
   ]
  },
  {
   "cell_type": "markdown",
   "id": "f9c97cfd-1267-4688-af2f-11179bfa5e25",
   "metadata": {},
   "source": [
    "#### Warning"
   ]
  },
  {
   "cell_type": "code",
   "execution_count": null,
   "id": "489c48ae-8d57-4344-abaf-5b7547b0ca59",
   "metadata": {
    "scrolled": true,
    "tags": []
   },
   "outputs": [],
   "source": [
    "data_modeling = (\n",
    "    data_sz.loc[\n",
    "        # data_sz.week_group.isin(range(56, 60))\n",
    "        # data_sz.week_group.isin(range(127, 131))\n",
    "        data_sz.week_group.isin(range(163, 170))\n",
    "    ]\n",
    "    .sort_values([\"date\"])\n",
    "    .reset_index(drop=True)\n",
    ")\n",
    "shifting = 0\n",
    "data_modeling.fillna(0.0, inplace=True)\n",
    "data_modeling[\"total_affected\"] = data_modeling.total_add.cumsum() + shifting\n",
    "data_modeling"
   ]
  },
  {
   "cell_type": "code",
   "execution_count": null,
   "id": "dd7ab3ad-13dd-44e7-a9c8-66594cb0c672",
   "metadata": {
    "tags": []
   },
   "outputs": [],
   "source": [
    "gt = data_modeling.iloc[:]\n",
    "ser = gt.iloc[:]\n",
    "sns.scatterplot(x=gt.date, y=gt.total_affected, alpha=1.0, color=\"blue\", s=32)\n",
    "sns.scatterplot(x=ser.date, y=ser.total_affected, alpha=0.5, color=\"red\", s=32)\n",
    "_ = plt.xticks(gt.date, rotation=90)"
   ]
  },
  {
   "cell_type": "code",
   "execution_count": null,
   "id": "cddd76c2-2525-4932-8cff-644e9fcca343",
   "metadata": {
    "tags": []
   },
   "outputs": [],
   "source": [
    "warning_pred_list = []\n",
    "for _pred_date in data_modeling.date.iloc[3:28]:\n",
    "    print(_pred_date)\n",
    "    growth_flag, turning_point, stop_point, seer_ser = covid19_seer(\n",
    "        data_modeling.loc[data_modeling.date <= _pred_date].total_affected.values,\n",
    "        \"WARNING\",\n",
    "        theta_city,\n",
    "        five_day_filter=15,\n",
    "        lock_down_hard_thresh=data_modeling.loc[\n",
    "            data_modeling.date <= _pred_date\n",
    "        ].total_affected.values.max()\n",
    "        + 1,\n",
    "    )\n",
    "    if turning_point is not None:\n",
    "        warning_pred_list.append(\n",
    "            [\n",
    "                _pred_date,\n",
    "                data_modeling.date.iloc[0] + dtt.timedelta(days=int(turning_point)),\n",
    "                2,\n",
    "            ]\n",
    "        )\n",
    "    else:\n",
    "        turning_point = 5\n",
    "    for _p in range(turning_point):\n",
    "        warning_pred_list.append(\n",
    "            [\n",
    "                _pred_date,\n",
    "                data_modeling.date.iloc[0] + dtt.timedelta(days=int(_p)),\n",
    "                0,\n",
    "            ]\n",
    "        )\n",
    "\n",
    "    if stop_point is not None:\n",
    "        warning_pred_list.append(\n",
    "            [\n",
    "                _pred_date,\n",
    "                data_modeling.date.iloc[0] + dtt.timedelta(days=int(stop_point)),\n",
    "                1,\n",
    "            ]\n",
    "        )\n",
    "    else:\n",
    "        stop_point = 5\n",
    "    for _p in range(stop_point):\n",
    "        warning_pred_list.append(\n",
    "            [\n",
    "                _pred_date,\n",
    "                data_modeling.date.iloc[0] + dtt.timedelta(days=int(_p)),\n",
    "                0,\n",
    "            ]\n",
    "        )"
   ]
  },
  {
   "cell_type": "code",
   "execution_count": null,
   "id": "1a874bee-6b00-4d4a-bafa-80b72e438d6a",
   "metadata": {
    "tags": []
   },
   "outputs": [],
   "source": [
    "heat_map_df_warn = pd.DataFrame(\n",
    "    warning_pred_list, columns=[\"pred_date\", \"zero_date\", \"flag\"]\n",
    ")\n",
    "heat_map_df_warn[\"pred_date\"] = heat_map_df_warn[\"pred_date\"].dt.date\n",
    "heat_map_df_warn[\"zero_date\"] = heat_map_df_warn[\"zero_date\"].dt.date\n",
    "\n",
    "sns.heatmap(\n",
    "    pd.pivot_table(\n",
    "        heat_map_df_warn,\n",
    "        index=\"pred_date\",\n",
    "        columns=\"zero_date\",\n",
    "        values=\"flag\",\n",
    "        aggfunc=\"max\",\n",
    "        fill_value=0,\n",
    "    ),\n",
    "    cmap=sns.cubehelix_palette(\n",
    "        start=2, rot=0, dark=0, light=0.95, reverse=False, as_cmap=True\n",
    "    ),\n",
    "    center=1.0,\n",
    "    linewidths=1,\n",
    ")"
   ]
  },
  {
   "cell_type": "markdown",
   "id": "939ef4e8-1ecd-4b8f-8f36-ed9c04aba8db",
   "metadata": {},
   "source": [
    "#### Lockdown"
   ]
  },
  {
   "cell_type": "code",
   "execution_count": null,
   "id": "b2c22601-fe55-45c3-912a-75007e48f964",
   "metadata": {
    "tags": []
   },
   "outputs": [],
   "source": [
    "warning_pred_list = []\n",
    "for _pred_date in data_modeling.date.iloc[28:-7]:\n",
    "    print(_pred_date)\n",
    "    growth_flag, turning_point, stop_point, seer_ser = covid19_seer(\n",
    "        data_modeling.loc[data_modeling.date <= _pred_date].total_affected.values,\n",
    "        \"LOCKDOWN\",\n",
    "        theta_city,\n",
    "        five_day_filter=15,\n",
    "        lock_down_hard_thresh=data_modeling.loc[\n",
    "            data_modeling.date <= _pred_date\n",
    "        ].total_affected.values.max()\n",
    "        + 1,\n",
    "    )\n",
    "    if turning_point is not None:\n",
    "        warning_pred_list.append(\n",
    "            [\n",
    "                _pred_date,\n",
    "                data_modeling.date.iloc[0] + dtt.timedelta(days=int(turning_point)),\n",
    "                2,\n",
    "            ]\n",
    "        )\n",
    "    else:\n",
    "        turning_point = 5\n",
    "    for _p in range(turning_point):\n",
    "        warning_pred_list.append(\n",
    "            [\n",
    "                _pred_date,\n",
    "                data_modeling.date.iloc[0] + dtt.timedelta(days=int(_p)),\n",
    "                0,\n",
    "            ]\n",
    "        )\n",
    "\n",
    "    if stop_point is not None:\n",
    "        warning_pred_list.append(\n",
    "            [\n",
    "                _pred_date,\n",
    "                data_modeling.date.iloc[0] + dtt.timedelta(days=int(stop_point)),\n",
    "                1,\n",
    "            ]\n",
    "        )\n",
    "    else:\n",
    "        stop_point = 5\n",
    "    for _p in range(stop_point):\n",
    "        warning_pred_list.append(\n",
    "            [\n",
    "                _pred_date,\n",
    "                data_modeling.date.iloc[0] + dtt.timedelta(days=int(_p)),\n",
    "                0,\n",
    "            ]\n",
    "        )"
   ]
  },
  {
   "cell_type": "code",
   "execution_count": null,
   "id": "2433925f-da14-42cb-8158-dc76831a7fe9",
   "metadata": {
    "tags": []
   },
   "outputs": [],
   "source": [
    "heat_map_df_lock = pd.DataFrame(\n",
    "    warning_pred_list, columns=[\"pred_date\", \"zero_date\", \"flag\"]\n",
    ")\n",
    "heat_map_df_lock[\"pred_date\"] = heat_map_df_lock[\"pred_date\"].dt.date\n",
    "heat_map_df_lock[\"zero_date\"] = heat_map_df_lock[\"zero_date\"].dt.date\n",
    "\n",
    "sns.heatmap(\n",
    "    pd.pivot_table(\n",
    "        heat_map_df_lock,\n",
    "        index=\"pred_date\",\n",
    "        columns=\"zero_date\",\n",
    "        values=\"flag\",\n",
    "        aggfunc=\"max\",\n",
    "        fill_value=0,\n",
    "    ),\n",
    "    cmap=sns.cubehelix_palette(\n",
    "        start=2, rot=0, dark=0, light=0.95, reverse=False, as_cmap=True\n",
    "    ),\n",
    "    center=1.0,\n",
    "    linewidths=1,\n",
    ")"
   ]
  },
  {
   "cell_type": "markdown",
   "id": "3608fd1e-d138-427f-8d03-b6cfd887067c",
   "metadata": {},
   "source": [
    "#### Combo"
   ]
  },
  {
   "cell_type": "code",
   "execution_count": null,
   "id": "598ee8e1-7471-44f7-bf2f-03cd91642835",
   "metadata": {
    "tags": []
   },
   "outputs": [],
   "source": [
    "sns.heatmap(\n",
    "    pd.pivot_table(\n",
    "        pd.concat([heat_map_df_warn, heat_map_df_lock], axis=0),\n",
    "        index=\"pred_date\",\n",
    "        columns=\"zero_date\",\n",
    "        values=\"flag\",\n",
    "        aggfunc=\"max\",\n",
    "        fill_value=0,\n",
    "    ),\n",
    "    cmap=sns.cubehelix_palette(\n",
    "        start=2, rot=0, dark=0, light=0.95, reverse=False, as_cmap=True\n",
    "    ),\n",
    "    center=1.0,\n",
    "    linewidths=1,\n",
    ")"
   ]
  },
  {
   "cell_type": "markdown",
   "id": "3ea2c7c6-30d1-4bcf-8fb9-6a339b71dffb",
   "metadata": {},
   "source": [
    "# Application on GZ"
   ]
  },
  {
   "cell_type": "code",
   "execution_count": null,
   "id": "a9d98dfe-a0ec-4f40-a75c-5c5aae127444",
   "metadata": {
    "tags": []
   },
   "outputs": [],
   "source": [
    "data_gz = pd.read_csv(\n",
    "    \"/Users/chenzhou/Documents/Everything/python/COVID19/data/covid19_guangzhou_221123.csv\",\n",
    "    dtype={\n",
    "        \"confirmed\": pd.Int64Dtype(),\n",
    "        \"transfer\": pd.Int64Dtype(),\n",
    "        \"asymptomatic\": pd.Int64Dtype(),\n",
    "    },\n",
    "    parse_dates=[\"date\"],\n",
    ")\n",
    "data_gz.fillna(0, inplace=True)\n",
    "data_gz[\"total_add\"] = data_gz.confirmed + data_gz.asymptomatic"
   ]
  },
  {
   "cell_type": "code",
   "execution_count": null,
   "id": "d0e36a2d-1a07-426e-a40b-4fba880f3cbb",
   "metadata": {
    "scrolled": true,
    "tags": []
   },
   "outputs": [],
   "source": [
    "data_gz"
   ]
  },
  {
   "cell_type": "code",
   "execution_count": 170,
   "id": "6d7e1be0-dae7-4c53-9791-a5c31c138772",
   "metadata": {
    "execution": {
     "iopub.execute_input": "2022-11-23T05:33:23.546714Z",
     "iopub.status.busy": "2022-11-23T05:33:23.546322Z",
     "iopub.status.idle": "2022-11-23T05:33:23.572952Z",
     "shell.execute_reply": "2022-11-23T05:33:23.572080Z",
     "shell.execute_reply.started": "2022-11-23T05:33:23.546685Z"
    },
    "scrolled": true,
    "tags": []
   },
   "outputs": [
    {
     "data": {
      "text/html": [
       "<div>\n",
       "<style scoped>\n",
       "    .dataframe tbody tr th:only-of-type {\n",
       "        vertical-align: middle;\n",
       "    }\n",
       "\n",
       "    .dataframe tbody tr th {\n",
       "        vertical-align: top;\n",
       "    }\n",
       "\n",
       "    .dataframe thead th {\n",
       "        text-align: right;\n",
       "    }\n",
       "</style>\n",
       "<table border=\"1\" class=\"dataframe\">\n",
       "  <thead>\n",
       "    <tr style=\"text-align: right;\">\n",
       "      <th></th>\n",
       "      <th>date</th>\n",
       "      <th>confirmed</th>\n",
       "      <th>asymptomatic</th>\n",
       "      <th>transfer</th>\n",
       "      <th>total_add</th>\n",
       "      <th>total_affected</th>\n",
       "    </tr>\n",
       "  </thead>\n",
       "  <tbody>\n",
       "    <tr>\n",
       "      <th>0</th>\n",
       "      <td>2022-10-15</td>\n",
       "      <td>20</td>\n",
       "      <td>16</td>\n",
       "      <td>0</td>\n",
       "      <td>36</td>\n",
       "      <td>36</td>\n",
       "    </tr>\n",
       "    <tr>\n",
       "      <th>1</th>\n",
       "      <td>2022-10-16</td>\n",
       "      <td>3</td>\n",
       "      <td>27</td>\n",
       "      <td>0</td>\n",
       "      <td>30</td>\n",
       "      <td>66</td>\n",
       "    </tr>\n",
       "    <tr>\n",
       "      <th>2</th>\n",
       "      <td>2022-10-17</td>\n",
       "      <td>16</td>\n",
       "      <td>43</td>\n",
       "      <td>0</td>\n",
       "      <td>59</td>\n",
       "      <td>125</td>\n",
       "    </tr>\n",
       "    <tr>\n",
       "      <th>3</th>\n",
       "      <td>2022-10-18</td>\n",
       "      <td>21</td>\n",
       "      <td>31</td>\n",
       "      <td>1</td>\n",
       "      <td>52</td>\n",
       "      <td>177</td>\n",
       "    </tr>\n",
       "    <tr>\n",
       "      <th>4</th>\n",
       "      <td>2022-10-19</td>\n",
       "      <td>6</td>\n",
       "      <td>44</td>\n",
       "      <td>0</td>\n",
       "      <td>50</td>\n",
       "      <td>227</td>\n",
       "    </tr>\n",
       "    <tr>\n",
       "      <th>5</th>\n",
       "      <td>2022-10-20</td>\n",
       "      <td>10</td>\n",
       "      <td>46</td>\n",
       "      <td>0</td>\n",
       "      <td>56</td>\n",
       "      <td>283</td>\n",
       "    </tr>\n",
       "    <tr>\n",
       "      <th>6</th>\n",
       "      <td>2022-10-21</td>\n",
       "      <td>12</td>\n",
       "      <td>46</td>\n",
       "      <td>0</td>\n",
       "      <td>58</td>\n",
       "      <td>341</td>\n",
       "    </tr>\n",
       "    <tr>\n",
       "      <th>7</th>\n",
       "      <td>2022-10-22</td>\n",
       "      <td>18</td>\n",
       "      <td>39</td>\n",
       "      <td>0</td>\n",
       "      <td>57</td>\n",
       "      <td>398</td>\n",
       "    </tr>\n",
       "    <tr>\n",
       "      <th>8</th>\n",
       "      <td>2022-10-23</td>\n",
       "      <td>16</td>\n",
       "      <td>53</td>\n",
       "      <td>0</td>\n",
       "      <td>69</td>\n",
       "      <td>467</td>\n",
       "    </tr>\n",
       "    <tr>\n",
       "      <th>9</th>\n",
       "      <td>2022-10-24</td>\n",
       "      <td>22</td>\n",
       "      <td>43</td>\n",
       "      <td>0</td>\n",
       "      <td>65</td>\n",
       "      <td>532</td>\n",
       "    </tr>\n",
       "    <tr>\n",
       "      <th>10</th>\n",
       "      <td>2022-10-25</td>\n",
       "      <td>27</td>\n",
       "      <td>46</td>\n",
       "      <td>0</td>\n",
       "      <td>73</td>\n",
       "      <td>605</td>\n",
       "    </tr>\n",
       "    <tr>\n",
       "      <th>11</th>\n",
       "      <td>2022-10-26</td>\n",
       "      <td>11</td>\n",
       "      <td>39</td>\n",
       "      <td>0</td>\n",
       "      <td>50</td>\n",
       "      <td>655</td>\n",
       "    </tr>\n",
       "    <tr>\n",
       "      <th>12</th>\n",
       "      <td>2022-10-27</td>\n",
       "      <td>19</td>\n",
       "      <td>46</td>\n",
       "      <td>0</td>\n",
       "      <td>65</td>\n",
       "      <td>720</td>\n",
       "    </tr>\n",
       "    <tr>\n",
       "      <th>13</th>\n",
       "      <td>2022-10-28</td>\n",
       "      <td>54</td>\n",
       "      <td>85</td>\n",
       "      <td>0</td>\n",
       "      <td>139</td>\n",
       "      <td>859</td>\n",
       "    </tr>\n",
       "    <tr>\n",
       "      <th>14</th>\n",
       "      <td>2022-10-29</td>\n",
       "      <td>66</td>\n",
       "      <td>125</td>\n",
       "      <td>0</td>\n",
       "      <td>191</td>\n",
       "      <td>1050</td>\n",
       "    </tr>\n",
       "    <tr>\n",
       "      <th>15</th>\n",
       "      <td>2022-10-30</td>\n",
       "      <td>232</td>\n",
       "      <td>295</td>\n",
       "      <td>0</td>\n",
       "      <td>527</td>\n",
       "      <td>1577</td>\n",
       "    </tr>\n",
       "    <tr>\n",
       "      <th>16</th>\n",
       "      <td>2022-10-31</td>\n",
       "      <td>190</td>\n",
       "      <td>289</td>\n",
       "      <td>0</td>\n",
       "      <td>479</td>\n",
       "      <td>2056</td>\n",
       "    </tr>\n",
       "    <tr>\n",
       "      <th>17</th>\n",
       "      <td>2022-11-01</td>\n",
       "      <td>85</td>\n",
       "      <td>253</td>\n",
       "      <td>12</td>\n",
       "      <td>338</td>\n",
       "      <td>2394</td>\n",
       "    </tr>\n",
       "    <tr>\n",
       "      <th>18</th>\n",
       "      <td>2022-11-02</td>\n",
       "      <td>83</td>\n",
       "      <td>323</td>\n",
       "      <td>33</td>\n",
       "      <td>406</td>\n",
       "      <td>2800</td>\n",
       "    </tr>\n",
       "    <tr>\n",
       "      <th>19</th>\n",
       "      <td>2022-11-03</td>\n",
       "      <td>149</td>\n",
       "      <td>430</td>\n",
       "      <td>7</td>\n",
       "      <td>579</td>\n",
       "      <td>3379</td>\n",
       "    </tr>\n",
       "    <tr>\n",
       "      <th>20</th>\n",
       "      <td>2022-11-04</td>\n",
       "      <td>168</td>\n",
       "      <td>635</td>\n",
       "      <td>57</td>\n",
       "      <td>803</td>\n",
       "      <td>4182</td>\n",
       "    </tr>\n",
       "    <tr>\n",
       "      <th>21</th>\n",
       "      <td>2022-11-05</td>\n",
       "      <td>183</td>\n",
       "      <td>1259</td>\n",
       "      <td>117</td>\n",
       "      <td>1442</td>\n",
       "      <td>5624</td>\n",
       "    </tr>\n",
       "    <tr>\n",
       "      <th>22</th>\n",
       "      <td>2022-11-06</td>\n",
       "      <td>158</td>\n",
       "      <td>1813</td>\n",
       "      <td>36</td>\n",
       "      <td>1971</td>\n",
       "      <td>7595</td>\n",
       "    </tr>\n",
       "    <tr>\n",
       "      <th>23</th>\n",
       "      <td>2022-11-07</td>\n",
       "      <td>232</td>\n",
       "      <td>2263</td>\n",
       "      <td>118</td>\n",
       "      <td>2495</td>\n",
       "      <td>10090</td>\n",
       "    </tr>\n",
       "    <tr>\n",
       "      <th>24</th>\n",
       "      <td>2022-11-08</td>\n",
       "      <td>478</td>\n",
       "      <td>2546</td>\n",
       "      <td>387</td>\n",
       "      <td>3024</td>\n",
       "      <td>13114</td>\n",
       "    </tr>\n",
       "    <tr>\n",
       "      <th>25</th>\n",
       "      <td>2022-11-09</td>\n",
       "      <td>423</td>\n",
       "      <td>2430</td>\n",
       "      <td>298</td>\n",
       "      <td>2853</td>\n",
       "      <td>15967</td>\n",
       "    </tr>\n",
       "    <tr>\n",
       "      <th>26</th>\n",
       "      <td>2022-11-10</td>\n",
       "      <td>466</td>\n",
       "      <td>2358</td>\n",
       "      <td>241</td>\n",
       "      <td>2824</td>\n",
       "      <td>18791</td>\n",
       "    </tr>\n",
       "    <tr>\n",
       "      <th>27</th>\n",
       "      <td>2022-11-11</td>\n",
       "      <td>694</td>\n",
       "      <td>2921</td>\n",
       "      <td>435</td>\n",
       "      <td>3615</td>\n",
       "      <td>22406</td>\n",
       "    </tr>\n",
       "    <tr>\n",
       "      <th>28</th>\n",
       "      <td>2022-11-12</td>\n",
       "      <td>662</td>\n",
       "      <td>3464</td>\n",
       "      <td>473</td>\n",
       "      <td>4126</td>\n",
       "      <td>26532</td>\n",
       "    </tr>\n",
       "    <tr>\n",
       "      <th>29</th>\n",
       "      <td>2022-11-13</td>\n",
       "      <td>656</td>\n",
       "      <td>3876</td>\n",
       "      <td>467</td>\n",
       "      <td>4532</td>\n",
       "      <td>31064</td>\n",
       "    </tr>\n",
       "    <tr>\n",
       "      <th>30</th>\n",
       "      <td>2022-11-14</td>\n",
       "      <td>552</td>\n",
       "      <td>4977</td>\n",
       "      <td>405</td>\n",
       "      <td>5529</td>\n",
       "      <td>36593</td>\n",
       "    </tr>\n",
       "    <tr>\n",
       "      <th>31</th>\n",
       "      <td>2022-11-15</td>\n",
       "      <td>509</td>\n",
       "      <td>6138</td>\n",
       "      <td>351</td>\n",
       "      <td>6647</td>\n",
       "      <td>43240</td>\n",
       "    </tr>\n",
       "    <tr>\n",
       "      <th>32</th>\n",
       "      <td>2022-11-16</td>\n",
       "      <td>275</td>\n",
       "      <td>8486</td>\n",
       "      <td>914</td>\n",
       "      <td>8761</td>\n",
       "      <td>52001</td>\n",
       "    </tr>\n",
       "    <tr>\n",
       "      <th>33</th>\n",
       "      <td>2022-11-17</td>\n",
       "      <td>255</td>\n",
       "      <td>8989</td>\n",
       "      <td>986</td>\n",
       "      <td>9244</td>\n",
       "      <td>61245</td>\n",
       "    </tr>\n",
       "    <tr>\n",
       "      <th>34</th>\n",
       "      <td>2022-11-18</td>\n",
       "      <td>269</td>\n",
       "      <td>8444</td>\n",
       "      <td>714</td>\n",
       "      <td>8713</td>\n",
       "      <td>69958</td>\n",
       "    </tr>\n",
       "    <tr>\n",
       "      <th>35</th>\n",
       "      <td>2022-11-19</td>\n",
       "      <td>200</td>\n",
       "      <td>8234</td>\n",
       "      <td>850</td>\n",
       "      <td>8434</td>\n",
       "      <td>78392</td>\n",
       "    </tr>\n",
       "    <tr>\n",
       "      <th>36</th>\n",
       "      <td>2022-11-20</td>\n",
       "      <td>296</td>\n",
       "      <td>7885</td>\n",
       "      <td>586</td>\n",
       "      <td>8181</td>\n",
       "      <td>86573</td>\n",
       "    </tr>\n",
       "    <tr>\n",
       "      <th>37</th>\n",
       "      <td>2022-11-21</td>\n",
       "      <td>253</td>\n",
       "      <td>7957</td>\n",
       "      <td>428</td>\n",
       "      <td>8210</td>\n",
       "      <td>94783</td>\n",
       "    </tr>\n",
       "    <tr>\n",
       "      <th>38</th>\n",
       "      <td>2022-11-22</td>\n",
       "      <td>235</td>\n",
       "      <td>7735</td>\n",
       "      <td>487</td>\n",
       "      <td>7970</td>\n",
       "      <td>102753</td>\n",
       "    </tr>\n",
       "  </tbody>\n",
       "</table>\n",
       "</div>"
      ],
      "text/plain": [
       "         date  confirmed  asymptomatic  transfer  total_add total_affected\n",
       "0  2022-10-15         20            16         0         36             36\n",
       "1  2022-10-16          3            27         0         30             66\n",
       "2  2022-10-17         16            43         0         59            125\n",
       "3  2022-10-18         21            31         1         52            177\n",
       "4  2022-10-19          6            44         0         50            227\n",
       "5  2022-10-20         10            46         0         56            283\n",
       "6  2022-10-21         12            46         0         58            341\n",
       "7  2022-10-22         18            39         0         57            398\n",
       "8  2022-10-23         16            53         0         69            467\n",
       "9  2022-10-24         22            43         0         65            532\n",
       "10 2022-10-25         27            46         0         73            605\n",
       "11 2022-10-26         11            39         0         50            655\n",
       "12 2022-10-27         19            46         0         65            720\n",
       "13 2022-10-28         54            85         0        139            859\n",
       "14 2022-10-29         66           125         0        191           1050\n",
       "15 2022-10-30        232           295         0        527           1577\n",
       "16 2022-10-31        190           289         0        479           2056\n",
       "17 2022-11-01         85           253        12        338           2394\n",
       "18 2022-11-02         83           323        33        406           2800\n",
       "19 2022-11-03        149           430         7        579           3379\n",
       "20 2022-11-04        168           635        57        803           4182\n",
       "21 2022-11-05        183          1259       117       1442           5624\n",
       "22 2022-11-06        158          1813        36       1971           7595\n",
       "23 2022-11-07        232          2263       118       2495          10090\n",
       "24 2022-11-08        478          2546       387       3024          13114\n",
       "25 2022-11-09        423          2430       298       2853          15967\n",
       "26 2022-11-10        466          2358       241       2824          18791\n",
       "27 2022-11-11        694          2921       435       3615          22406\n",
       "28 2022-11-12        662          3464       473       4126          26532\n",
       "29 2022-11-13        656          3876       467       4532          31064\n",
       "30 2022-11-14        552          4977       405       5529          36593\n",
       "31 2022-11-15        509          6138       351       6647          43240\n",
       "32 2022-11-16        275          8486       914       8761          52001\n",
       "33 2022-11-17        255          8989       986       9244          61245\n",
       "34 2022-11-18        269          8444       714       8713          69958\n",
       "35 2022-11-19        200          8234       850       8434          78392\n",
       "36 2022-11-20        296          7885       586       8181          86573\n",
       "37 2022-11-21        253          7957       428       8210          94783\n",
       "38 2022-11-22        235          7735       487       7970         102753"
      ]
     },
     "execution_count": 170,
     "metadata": {},
     "output_type": "execute_result"
    }
   ],
   "source": [
    "data_modeling = (\n",
    "    data_gz.loc[data_gz.date >= \"2022-10-15\"]\n",
    "    .sort_values([\"date\"])\n",
    "    .reset_index(drop=True)\n",
    ")\n",
    "shifting = 0\n",
    "data_modeling.fillna(0.0, inplace=True)\n",
    "data_modeling[\"total_affected\"] = data_modeling.total_add.cumsum() + shifting\n",
    "data_modeling"
   ]
  },
  {
   "cell_type": "code",
   "execution_count": 171,
   "id": "fd7afef4-2ccd-426e-98ce-5f0bf731d817",
   "metadata": {
    "execution": {
     "iopub.execute_input": "2022-11-23T05:33:23.927442Z",
     "iopub.status.busy": "2022-11-23T05:33:23.927055Z",
     "iopub.status.idle": "2022-11-23T05:33:24.644879Z",
     "shell.execute_reply": "2022-11-23T05:33:24.643694Z",
     "shell.execute_reply.started": "2022-11-23T05:33:23.927411Z"
    },
    "tags": []
   },
   "outputs": [
    {
     "data": {
      "text/plain": [
       "<AxesSubplot:xlabel='date', ylabel='total_affected'>"
      ]
     },
     "execution_count": 171,
     "metadata": {},
     "output_type": "execute_result"
    },
    {
     "data": {
      "text/plain": [
       "<AxesSubplot:xlabel='date', ylabel='total_affected'>"
      ]
     },
     "execution_count": 171,
     "metadata": {},
     "output_type": "execute_result"
    },
    {
     "data": {
      "image/png": "[encoded data removed]",
      "text/plain": [
       "<Figure size 1200x600 with 1 Axes>"
      ]
     },
     "metadata": {},
     "output_type": "display_data"
    }
   ],
   "source": [
    "gt = data_modeling.iloc[:]\n",
    "ser = gt.iloc[:]\n",
    "sns.scatterplot(x=gt.date, y=gt.total_affected, alpha=1.0, color=\"blue\", s=32)\n",
    "sns.scatterplot(x=ser.date, y=ser.total_affected, alpha=0.5, color=\"red\", s=32)\n",
    "_ = plt.xticks(gt.date, rotation=90)"
   ]
  },
  {
   "cell_type": "code",
   "execution_count": null,
   "id": "77b021a4-82b8-41ef-85ef-d699a0392909",
   "metadata": {
    "tags": []
   },
   "outputs": [],
   "source": [
    "growth_flag, turning_point, stop_point, seer_ser = covid19_seer(\n",
    "    ser.total_affected.values, \"LOCKDOWN\", theta_city\n",
    ")"
   ]
  },
  {
   "cell_type": "code",
   "execution_count": 177,
   "id": "b792c9f7-55b6-49c8-80f6-45d945c26e77",
   "metadata": {
    "execution": {
     "iopub.execute_input": "2022-11-23T05:34:17.762565Z",
     "iopub.status.busy": "2022-11-23T05:34:17.762164Z",
     "iopub.status.idle": "2022-11-23T05:34:25.143689Z",
     "shell.execute_reply": "2022-11-23T05:34:25.143042Z",
     "shell.execute_reply.started": "2022-11-23T05:34:17.762536Z"
    },
    "scrolled": true,
    "tags": []
   },
   "outputs": [
    {
     "name": "stdout",
     "output_type": "stream",
     "text": [
      "inter 0: Theta: [0.59895091 1.00398787 1.70990562] Loss: 14181.400801583175\n",
      "inter 1: Theta: [0.59890231 1.00397601 1.70981224] Loss: 14186.257277672401\n",
      "inter 2: Theta: [0.59885418 1.00396444 1.70971983] Loss: 14191.109240138523\n",
      "inter 3: Theta: [0.59880653 1.00395313 1.7096284 ] Loss: 14195.955745726598\n",
      "inter 4: Theta: [0.59875935 1.00394209 1.70953792] Loss: 14200.795884578427\n",
      "inter 5: Theta: [0.59871263 1.0039313  1.70944841] Loss: 14205.628779241792\n",
      "inter 6: Theta: [0.59866637 1.00392076 1.70935984] Loss: 14210.453583710518\n",
      "inter 7: Theta: [0.59862056 1.00391046 1.70927221] Loss: 14215.269482494827\n",
      "inter 8: Theta: [0.59857521 1.00390041 1.7091855 ] Loss: 14220.075689720328\n",
      "inter 9: Theta: [0.5985303  1.00389058 1.70909972] Loss: 14224.87144825534\n",
      "inter 10: Theta: [0.59848583 1.00388098 1.70901485] Loss: 14229.656028864934\n",
      "inter 11: Theta: [0.5984418  1.00387161 1.70893088] Loss: 14234.428729390962\n",
      "inter 12: Theta: [0.5983982  1.00386245 1.70884781] Loss: 14239.188873957246\n",
      "inter 13: Theta: [0.59835504 1.0038535  1.70876562] Loss: 14243.935812198804\n",
      "inter 14: Theta: [0.59831229 1.00384476 1.70868431] Loss: 14248.66891851459\n",
      "inter 15: Theta: [0.59826997 1.00383622 1.70860387] Loss: 14253.387591342665\n",
      "inter 16: Theta: [0.59822806 1.00382787 1.70852429] Loss: 14258.091252457216\n",
      "inter 17: Theta: [0.59818657 1.00381972 1.70844556] Loss: 14262.779346286436\n",
      "inter 18: Theta: [0.59814548 1.00381175 1.70836767] Loss: 14267.451339250816\n",
      "inter 19: Theta: [0.5981048  1.00380397 1.70829062] Loss: 14272.10671912114\n",
      "inter 20: Theta: [0.59806452 1.00379636 1.7082144 ] Loss: 14276.744994395167\n",
      "inter 21: Theta: [0.59802463 1.00378893 1.70813899] Loss: 14281.365693692893\n"
     ]
    },
    {
     "data": {
      "text/plain": [
       "array([0.599, 1.004, 1.71 ])"
      ]
     },
     "execution_count": 177,
     "metadata": {},
     "output_type": "execute_result"
    },
    {
     "data": {
      "image/png": "[encoded data removed]",
      "text/plain": [
       "<Figure size 1200x600 with 1 Axes>"
      ]
     },
     "metadata": {},
     "output_type": "display_data"
    }
   ],
   "source": [
    "kappa_init, mu_init, tau_init = [0.599, 1.004, 1.71]\n",
    "\n",
    "theta_opt, losses, fitted_opt, bs_funcs = model_theta_global_opt(\n",
    "    ser.total_affected.values,\n",
    "    kappa_init=kappa_init,\n",
    "    mu_init=mu_init,\n",
    "    tau_init=tau_init,\n",
    "    bs_interp_prop=0.5,\n",
    "    interg_interp_prop=200.0,\n",
    "    labd=5.0,\n",
    "    bs_lr_schedule=(int(4e2), 0.02, 0.999),\n",
    "    theta_lr_schedule=(int(5e2), 0.01, 0.99),\n",
    "    early_stop_ratio=[2.0, 0.99999],\n",
    "    early_stop_steps=20,\n",
    "    show_process=\"outer\",\n",
    "    ser_loss_expansion=0.5,\n",
    ")\n",
    "theta_opt"
   ]
  },
  {
   "cell_type": "code",
   "execution_count": 178,
   "id": "a737e0ba-511a-4d26-8c93-30993f5ead48",
   "metadata": {
    "execution": {
     "iopub.execute_input": "2022-11-23T05:34:28.809848Z",
     "iopub.status.busy": "2022-11-23T05:34:28.809445Z",
     "iopub.status.idle": "2022-11-23T05:34:29.094961Z",
     "shell.execute_reply": "2022-11-23T05:34:29.094315Z",
     "shell.execute_reply.started": "2022-11-23T05:34:28.809815Z"
    },
    "tags": []
   },
   "outputs": [
    {
     "data": {
      "text/plain": [
       "<AxesSubplot:>"
      ]
     },
     "execution_count": 178,
     "metadata": {},
     "output_type": "execute_result"
    },
    {
     "data": {
      "text/plain": [
       "<AxesSubplot:>"
      ]
     },
     "execution_count": 178,
     "metadata": {},
     "output_type": "execute_result"
    },
    {
     "data": {
      "image/png": "[encoded data removed]",
      "text/plain": [
       "<Figure size 1200x600 with 1 Axes>"
      ]
     },
     "metadata": {},
     "output_type": "display_data"
    }
   ],
   "source": [
    "sns.scatterplot(\n",
    "    x=range(len(ser.total_affected.values)),\n",
    "    y=ser.total_affected.values,\n",
    "    alpha=1.0,\n",
    "    color=\"blue\",\n",
    "    s=32,\n",
    ")\n",
    "sns.lineplot(\n",
    "    x=range(len(ser.total_affected.values)),\n",
    "    y=revise_ser(fitted_opt),\n",
    "    alpha=0.8,\n",
    "    color=\"yellow\",\n",
    "    linewidth=4,\n",
    ")"
   ]
  },
  {
   "cell_type": "code",
   "execution_count": 221,
   "id": "78cc4368-62b5-4c40-9243-0b11ede8a96f",
   "metadata": {
    "execution": {
     "iopub.execute_input": "2022-11-23T06:00:21.156186Z",
     "iopub.status.busy": "2022-11-23T06:00:21.155751Z",
     "iopub.status.idle": "2022-11-23T06:00:21.161425Z",
     "shell.execute_reply": "2022-11-23T06:00:21.160585Z",
     "shell.execute_reply.started": "2022-11-23T06:00:21.156153Z"
    }
   },
   "outputs": [
    {
     "name": "stdout",
     "output_type": "stream",
     "text": [
      "kappa: 0.599 mu: 1.004 tau :1.71\n"
     ]
    }
   ],
   "source": [
    "print(\"kappa: {} mu: {} tau :{}\".format(theta_opt[0],theta_opt[1],theta_opt[2]))"
   ]
  },
  {
   "cell_type": "code",
   "execution_count": 184,
   "id": "1562b334-ee21-4b26-baec-81b73e3b5584",
   "metadata": {
    "execution": {
     "iopub.execute_input": "2022-11-23T05:46:39.573635Z",
     "iopub.status.busy": "2022-11-23T05:46:39.573236Z",
     "iopub.status.idle": "2022-11-23T05:46:39.599224Z",
     "shell.execute_reply": "2022-11-23T05:46:39.598373Z",
     "shell.execute_reply.started": "2022-11-23T05:46:39.573604Z"
    },
    "tags": []
   },
   "outputs": [
    {
     "data": {
      "text/plain": [
       "array([0.599, 1.004, 1.71 ])"
      ]
     },
     "execution_count": 184,
     "metadata": {},
     "output_type": "execute_result"
    }
   ],
   "source": [
    "theta_opt_adj = theta_opt  # [0.599, 1.00, 1.71]\n",
    "theta_opt_adj\n",
    "pred_len = 30\n",
    "pred_interp = 10\n",
    "pred_prev_len = 2\n",
    "use_gt = 0\n",
    "fitted_ser = revise_ser(\n",
    "    np.concatenate([fitted_opt[:-use_gt], ser.total_affected.values[-use_gt:]])\n",
    ")\n",
    "pred_ser_combo = pred_ser(\n",
    "    fitted_ser, pred_len, pred_interp, pred_prev_len, theta_opt_adj\n",
    ")\n",
    "pred_series = pred_ser_combo[pred_interp * pred_prev_len :][::pred_interp]\n",
    "pred_series_upper = revise_ser(pred_series, intercept=pred_series[0])"
   ]
  },
  {
   "cell_type": "code",
   "execution_count": 185,
   "id": "4cc5038b-981c-43d7-9bc3-d001f9e7183d",
   "metadata": {
    "execution": {
     "iopub.execute_input": "2022-11-23T05:46:39.734605Z",
     "iopub.status.busy": "2022-11-23T05:46:39.734217Z",
     "iopub.status.idle": "2022-11-23T05:46:39.759694Z",
     "shell.execute_reply": "2022-11-23T05:46:39.758773Z",
     "shell.execute_reply.started": "2022-11-23T05:46:39.734575Z"
    },
    "tags": []
   },
   "outputs": [
    {
     "data": {
      "text/plain": [
       "[0.599, 1.008, 1.71]"
      ]
     },
     "execution_count": 185,
     "metadata": {},
     "output_type": "execute_result"
    }
   ],
   "source": [
    "theta_opt_adj = [0.599, 1.008, 1.71]\n",
    "theta_opt_adj\n",
    "pred_len = 30\n",
    "pred_interp = 10\n",
    "pred_prev_len = 2\n",
    "use_gt = 0\n",
    "fitted_ser = revise_ser(\n",
    "    np.concatenate([fitted_opt[:-use_gt], ser.total_affected.values[-use_gt:]])\n",
    ")\n",
    "pred_ser_combo = pred_ser(\n",
    "    fitted_ser, pred_len, pred_interp, pred_prev_len, theta_opt_adj\n",
    ")\n",
    "pred_series = pred_ser_combo[pred_interp * pred_prev_len :][::pred_interp]\n",
    "pred_series_lower = revise_ser(pred_series, intercept=pred_series[0])"
   ]
  },
  {
   "cell_type": "code",
   "execution_count": 187,
   "id": "bf60352e-8faf-41fc-83b9-a1c376cd1c2d",
   "metadata": {
    "execution": {
     "iopub.execute_input": "2022-11-23T05:47:58.160562Z",
     "iopub.status.busy": "2022-11-23T05:47:58.159881Z",
     "iopub.status.idle": "2022-11-23T05:47:58.190671Z",
     "shell.execute_reply": "2022-11-23T05:47:58.189858Z",
     "shell.execute_reply.started": "2022-11-23T05:47:58.160529Z"
    }
   },
   "outputs": [
    {
     "data": {
      "text/plain": [
       "[0.599, 1.006, 1.71]"
      ]
     },
     "execution_count": 187,
     "metadata": {},
     "output_type": "execute_result"
    }
   ],
   "source": [
    "theta_opt_adj = [0.599, 1.006, 1.71]\n",
    "theta_opt_adj\n",
    "pred_len = 30\n",
    "pred_interp = 10\n",
    "pred_prev_len = 2\n",
    "use_gt = 0\n",
    "fitted_ser = revise_ser(\n",
    "    np.concatenate([fitted_opt[:-use_gt], ser.total_affected.values[-use_gt:]])\n",
    ")\n",
    "pred_ser_combo = pred_ser(\n",
    "    fitted_ser, pred_len, pred_interp, pred_prev_len, theta_opt_adj\n",
    ")\n",
    "pred_series = pred_ser_combo[pred_interp * pred_prev_len :][::pred_interp]\n",
    "pred_series_mean = revise_ser(pred_series, intercept=pred_series[0])"
   ]
  },
  {
   "cell_type": "code",
   "execution_count": 213,
   "id": "84bc0e3b-534a-4cea-ba1b-28c0ca61e48d",
   "metadata": {
    "execution": {
     "iopub.execute_input": "2022-11-23T05:55:51.573623Z",
     "iopub.status.busy": "2022-11-23T05:55:51.572922Z",
     "iopub.status.idle": "2022-11-23T05:55:51.578836Z",
     "shell.execute_reply": "2022-11-23T05:55:51.577472Z",
     "shell.execute_reply.started": "2022-11-23T05:55:51.573586Z"
    },
    "tags": []
   },
   "outputs": [],
   "source": [
    "pred_x_range = pd.date_range(\"2022-11-22\",\"2022-12-22\",freq=\"D\")"
   ]
  },
  {
   "cell_type": "code",
   "execution_count": 220,
   "id": "f11350de-7149-4b70-a7a7-7b2cd7a94a18",
   "metadata": {
    "execution": {
     "iopub.execute_input": "2022-11-23T05:57:20.200281Z",
     "iopub.status.busy": "2022-11-23T05:57:20.199794Z",
     "iopub.status.idle": "2022-11-23T05:57:20.910026Z",
     "shell.execute_reply": "2022-11-23T05:57:20.909402Z",
     "shell.execute_reply.started": "2022-11-23T05:57:20.200245Z"
    },
    "tags": []
   },
   "outputs": [
    {
     "data": {
      "text/plain": [
       "<AxesSubplot:xlabel='date'>"
      ]
     },
     "execution_count": 220,
     "metadata": {},
     "output_type": "execute_result"
    },
    {
     "data": {
      "text/plain": [
       "<AxesSubplot:xlabel='date'>"
      ]
     },
     "execution_count": 220,
     "metadata": {},
     "output_type": "execute_result"
    },
    {
     "data": {
      "text/plain": [
       "<AxesSubplot:xlabel='date'>"
      ]
     },
     "execution_count": 220,
     "metadata": {},
     "output_type": "execute_result"
    },
    {
     "data": {
      "text/plain": [
       "<AxesSubplot:xlabel='date'>"
      ]
     },
     "execution_count": 220,
     "metadata": {},
     "output_type": "execute_result"
    },
    {
     "data": {
      "text/plain": [
       "<AxesSubplot:xlabel='date'>"
      ]
     },
     "execution_count": 220,
     "metadata": {},
     "output_type": "execute_result"
    },
    {
     "data": {
      "image/png": "[encoded data removed]",
      "text/plain": [
       "<Figure size 1200x600 with 1 Axes>"
      ]
     },
     "metadata": {},
     "output_type": "display_data"
    }
   ],
   "source": [
    "sns.lineplot(\n",
    "    x=ser.date, y=fitted_ser, alpha=0.7, color=\"yellow\", linewidth=4\n",
    ")\n",
    "\n",
    "sns.scatterplot(\n",
    "    x=ser.date, y=ser.total_affected.values, alpha=1.0, color=\"orange\", s=32\n",
    ")\n",
    "\n",
    "sns.lineplot(\n",
    "    x=pred_x_range,\n",
    "    y=pred_series_upper,\n",
    "    alpha=0.5,\n",
    "    color=\"red\",\n",
    "    linewidth=2,\n",
    ")\n",
    "\n",
    "sns.lineplot(\n",
    "    x=pred_x_range,\n",
    "    y=pred_series_mean,\n",
    "    alpha=0.5,\n",
    "    color=\"blue\",\n",
    "    linewidth=4,\n",
    ")\n",
    "\n",
    "sns.lineplot(\n",
    "    x=pred_x_range,\n",
    "    y=pred_series_lower,\n",
    "    alpha=0.5,\n",
    "    color=\"green\",\n",
    "    linewidth=2,\n",
    ")\n",
    "\n",
    "_ = plt.xticks(pd.date_range(\"2022-10-15\",\"2022-12-22\",freq=\"2D\"), rotation=90)"
   ]
  },
  {
   "cell_type": "code",
   "execution_count": null,
   "id": "08f74cb9-d058-4510-9690-4af8b06a3ee1",
   "metadata": {},
   "outputs": [],
   "source": []
  }
 ],
 "metadata": {
  "kernelspec": {
   "display_name": "Python 3 (ipykernel)",
   "language": "python",
   "name": "python3"
  },
  "language_info": {
   "codemirror_mode": {
    "name": "ipython",
    "version": 3
   },
   "file_extension": ".py",
   "mimetype": "text/x-python",
   "name": "python",
   "nbconvert_exporter": "python",
   "pygments_lexer": "ipython3",
   "version": "3.7.12"
  },
  "toc-autonumbering": true
 },
 "nbformat": 4,
 "nbformat_minor": 5
}
