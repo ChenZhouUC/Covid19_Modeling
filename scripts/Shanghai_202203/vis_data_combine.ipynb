{
 "cells": [
  {
   "cell_type": "code",
   "execution_count": 22,
   "id": "7e91d783-ddab-4409-8e66-a41c72482bf8",
   "metadata": {
    "execution": {
     "iopub.execute_input": "2022-11-25T04:10:03.804269Z",
     "iopub.status.busy": "2022-11-25T04:10:03.803593Z",
     "iopub.status.idle": "2022-11-25T04:10:03.808111Z",
     "shell.execute_reply": "2022-11-25T04:10:03.807259Z",
     "shell.execute_reply.started": "2022-11-25T04:10:03.804235Z"
    },
    "tags": []
   },
   "outputs": [],
   "source": [
    "import pandas as pd\n",
    "import datetime as dtm"
   ]
  },
  {
   "cell_type": "code",
   "execution_count": 14,
   "id": "145bc884-6d91-433d-89d0-56e08734ffbd",
   "metadata": {
    "execution": {
     "iopub.execute_input": "2022-11-25T04:08:06.298671Z",
     "iopub.status.busy": "2022-11-25T04:08:06.298287Z",
     "iopub.status.idle": "2022-11-25T04:08:06.306643Z",
     "shell.execute_reply": "2022-11-25T04:08:06.305783Z",
     "shell.execute_reply.started": "2022-11-25T04:08:06.298640Z"
    },
    "tags": []
   },
   "outputs": [],
   "source": [
    "sh_data_0423 = pd.read_csv(\n",
    "    \"/Users/chenzhou/Documents/Everything/python/COVID19/data/data_0423_SH.csv\",\n",
    "    parse_dates=[\"date\"],\n",
    ")"
   ]
  },
  {
   "cell_type": "code",
   "execution_count": 15,
   "id": "930c07e5-3864-4714-8d9c-c2e11ed67f1b",
   "metadata": {
    "execution": {
     "iopub.execute_input": "2022-11-25T04:08:06.394569Z",
     "iopub.status.busy": "2022-11-25T04:08:06.393730Z",
     "iopub.status.idle": "2022-11-25T04:08:06.400998Z",
     "shell.execute_reply": "2022-11-25T04:08:06.400188Z",
     "shell.execute_reply.started": "2022-11-25T04:08:06.394537Z"
    },
    "tags": []
   },
   "outputs": [],
   "source": [
    "sh_data_0423_pred = pd.read_csv(\n",
    "    \"/Users/chenzhou/Documents/Everything/python/COVID19/data/covid19_forecasted_0424_0521_SH_Whale.csv\",\n",
    "    parse_dates=[\"date\"],\n",
    ")"
   ]
  },
  {
   "cell_type": "code",
   "execution_count": 16,
   "id": "5238a990-1196-4347-9dea-2cfb87f43fc9",
   "metadata": {
    "execution": {
     "iopub.execute_input": "2022-11-25T04:08:06.487193Z",
     "iopub.status.busy": "2022-11-25T04:08:06.486578Z",
     "iopub.status.idle": "2022-11-25T04:08:06.494046Z",
     "shell.execute_reply": "2022-11-25T04:08:06.493123Z",
     "shell.execute_reply.started": "2022-11-25T04:08:06.487162Z"
    },
    "tags": []
   },
   "outputs": [],
   "source": [
    "sh_data_0423[\"total_add\"] = (\n",
    "    sh_data_0423[\"inbound_confirmed\"]\n",
    "    + sh_data_0423[\"inbound_asymp\"]\n",
    "    + sh_data_0423[\"outbound_confirmed\"]\n",
    "    + sh_data_0423[\"outbound_asymp\"]\n",
    ")\n",
    "sh_data_0423[\"total_affected\"] = sh_data_0423[\"total_add\"].cumsum()"
   ]
  },
  {
   "cell_type": "code",
   "execution_count": 17,
   "id": "371b4eda-abe6-46c7-b640-5c83c3e31909",
   "metadata": {
    "execution": {
     "iopub.execute_input": "2022-11-25T04:08:06.728353Z",
     "iopub.status.busy": "2022-11-25T04:08:06.727979Z",
     "iopub.status.idle": "2022-11-25T04:08:06.737118Z",
     "shell.execute_reply": "2022-11-25T04:08:06.736277Z",
     "shell.execute_reply.started": "2022-11-25T04:08:06.728322Z"
    },
    "tags": []
   },
   "outputs": [],
   "source": [
    "sh_data_0423[\"pred_affected\"] = sh_data_0423[\"total_affected\"]\n",
    "sh_data_0423[\"pred_min\"] = sh_data_0423[\"pred_affected\"]\n",
    "sh_data_0423[\"pred_max\"] = sh_data_0423[\"pred_affected\"]\n",
    "sh_data_0423 = sh_data_0423.loc[:,[\"date\",\"total_affected\",\"pred_affected\",\"pred_min\",\"pred_max\"]]"
   ]
  },
  {
   "cell_type": "code",
   "execution_count": 33,
   "id": "6d8fa1b3-4023-49a9-a4b3-5a619da3d5e6",
   "metadata": {
    "execution": {
     "iopub.execute_input": "2022-11-25T04:12:11.830521Z",
     "iopub.status.busy": "2022-11-25T04:12:11.829825Z",
     "iopub.status.idle": "2022-11-25T04:12:11.838626Z",
     "shell.execute_reply": "2022-11-25T04:12:11.837478Z",
     "shell.execute_reply.started": "2022-11-25T04:12:11.830488Z"
    },
    "tags": []
   },
   "outputs": [],
   "source": [
    "def decide_phase(date):\n",
    "    if date < dtm.datetime.strptime(\"2022-03-01\", \"%Y-%m-%d\"):\n",
    "        return 1\n",
    "    elif date < dtm.datetime.strptime(\"2022-03-28\", \"%Y-%m-%d\"):\n",
    "        return 2\n",
    "    else:\n",
    "        return 3\n",
    "\n",
    "sh_data_0423[\"phase\"] = sh_data_0423.date.apply(decide_phase)"
   ]
  },
  {
   "cell_type": "code",
   "execution_count": 36,
   "id": "6fc69874-472d-43cb-b798-5fa82e3704b6",
   "metadata": {
    "execution": {
     "iopub.execute_input": "2022-11-25T04:12:42.311131Z",
     "iopub.status.busy": "2022-11-25T04:12:42.310755Z",
     "iopub.status.idle": "2022-11-25T04:12:42.326504Z",
     "shell.execute_reply": "2022-11-25T04:12:42.325632Z",
     "shell.execute_reply.started": "2022-11-25T04:12:42.311099Z"
    }
   },
   "outputs": [
    {
     "data": {
      "text/html": [
       "<div>\n",
       "<style scoped>\n",
       "    .dataframe tbody tr th:only-of-type {\n",
       "        vertical-align: middle;\n",
       "    }\n",
       "\n",
       "    .dataframe tbody tr th {\n",
       "        vertical-align: top;\n",
       "    }\n",
       "\n",
       "    .dataframe thead th {\n",
       "        text-align: right;\n",
       "    }\n",
       "</style>\n",
       "<table border=\"1\" class=\"dataframe\">\n",
       "  <thead>\n",
       "    <tr style=\"text-align: right;\">\n",
       "      <th></th>\n",
       "      <th>date</th>\n",
       "      <th>total_affected</th>\n",
       "      <th>pred_affected</th>\n",
       "      <th>pred_min</th>\n",
       "      <th>pred_max</th>\n",
       "      <th>phase</th>\n",
       "    </tr>\n",
       "  </thead>\n",
       "  <tbody>\n",
       "    <tr>\n",
       "      <th>0</th>\n",
       "      <td>2022-02-16</td>\n",
       "      <td>10</td>\n",
       "      <td>10</td>\n",
       "      <td>10</td>\n",
       "      <td>10</td>\n",
       "      <td>1</td>\n",
       "    </tr>\n",
       "    <tr>\n",
       "      <th>1</th>\n",
       "      <td>2022-02-17</td>\n",
       "      <td>23</td>\n",
       "      <td>23</td>\n",
       "      <td>23</td>\n",
       "      <td>23</td>\n",
       "      <td>1</td>\n",
       "    </tr>\n",
       "    <tr>\n",
       "      <th>2</th>\n",
       "      <td>2022-02-18</td>\n",
       "      <td>44</td>\n",
       "      <td>44</td>\n",
       "      <td>44</td>\n",
       "      <td>44</td>\n",
       "      <td>1</td>\n",
       "    </tr>\n",
       "    <tr>\n",
       "      <th>3</th>\n",
       "      <td>2022-02-19</td>\n",
       "      <td>67</td>\n",
       "      <td>67</td>\n",
       "      <td>67</td>\n",
       "      <td>67</td>\n",
       "      <td>1</td>\n",
       "    </tr>\n",
       "    <tr>\n",
       "      <th>4</th>\n",
       "      <td>2022-02-20</td>\n",
       "      <td>99</td>\n",
       "      <td>99</td>\n",
       "      <td>99</td>\n",
       "      <td>99</td>\n",
       "      <td>1</td>\n",
       "    </tr>\n",
       "    <tr>\n",
       "      <th>...</th>\n",
       "      <td>...</td>\n",
       "      <td>...</td>\n",
       "      <td>...</td>\n",
       "      <td>...</td>\n",
       "      <td>...</td>\n",
       "      <td>...</td>\n",
       "    </tr>\n",
       "    <tr>\n",
       "      <th>62</th>\n",
       "      <td>2022-04-19</td>\n",
       "      <td>411772</td>\n",
       "      <td>411772</td>\n",
       "      <td>411772</td>\n",
       "      <td>411772</td>\n",
       "      <td>3</td>\n",
       "    </tr>\n",
       "    <tr>\n",
       "      <th>63</th>\n",
       "      <td>2022-04-20</td>\n",
       "      <td>429811</td>\n",
       "      <td>429811</td>\n",
       "      <td>429811</td>\n",
       "      <td>429811</td>\n",
       "      <td>3</td>\n",
       "    </tr>\n",
       "    <tr>\n",
       "      <th>64</th>\n",
       "      <td>2022-04-21</td>\n",
       "      <td>447297</td>\n",
       "      <td>447297</td>\n",
       "      <td>447297</td>\n",
       "      <td>447297</td>\n",
       "      <td>3</td>\n",
       "    </tr>\n",
       "    <tr>\n",
       "      <th>65</th>\n",
       "      <td>2022-04-22</td>\n",
       "      <td>469548</td>\n",
       "      <td>469548</td>\n",
       "      <td>469548</td>\n",
       "      <td>469548</td>\n",
       "      <td>3</td>\n",
       "    </tr>\n",
       "    <tr>\n",
       "      <th>66</th>\n",
       "      <td>2022-04-23</td>\n",
       "      <td>490065</td>\n",
       "      <td>490065</td>\n",
       "      <td>490065</td>\n",
       "      <td>490065</td>\n",
       "      <td>3</td>\n",
       "    </tr>\n",
       "  </tbody>\n",
       "</table>\n",
       "<p>67 rows × 6 columns</p>\n",
       "</div>"
      ],
      "text/plain": [
       "         date  total_affected  pred_affected  pred_min  pred_max  phase\n",
       "0  2022-02-16              10             10        10        10      1\n",
       "1  2022-02-17              23             23        23        23      1\n",
       "2  2022-02-18              44             44        44        44      1\n",
       "3  2022-02-19              67             67        67        67      1\n",
       "4  2022-02-20              99             99        99        99      1\n",
       "..        ...             ...            ...       ...       ...    ...\n",
       "62 2022-04-19          411772         411772    411772    411772      3\n",
       "63 2022-04-20          429811         429811    429811    429811      3\n",
       "64 2022-04-21          447297         447297    447297    447297      3\n",
       "65 2022-04-22          469548         469548    469548    469548      3\n",
       "66 2022-04-23          490065         490065    490065    490065      3\n",
       "\n",
       "[67 rows x 6 columns]"
      ]
     },
     "execution_count": 36,
     "metadata": {},
     "output_type": "execute_result"
    }
   ],
   "source": [
    "sh_data_0423"
   ]
  },
  {
   "cell_type": "code",
   "execution_count": 37,
   "id": "77a842bb-4644-444a-9150-4a92b19185dd",
   "metadata": {
    "execution": {
     "iopub.execute_input": "2022-11-25T04:14:41.115067Z",
     "iopub.status.busy": "2022-11-25T04:14:41.114456Z",
     "iopub.status.idle": "2022-11-25T04:14:41.124814Z",
     "shell.execute_reply": "2022-11-25T04:14:41.124017Z",
     "shell.execute_reply.started": "2022-11-25T04:14:41.115036Z"
    },
    "tags": []
   },
   "outputs": [],
   "source": [
    "sh_data_0423_pred[\"pred_affected\"] = sh_data_0423_pred[\"pred\"]\n",
    "sh_data_0423_pred[\"total_affected\"] = sh_data_0423_pred[\"pred_affected\"]\n",
    "sh_data_0423_pred[\"pred_min\"] = sh_data_0423_pred[\"ci_min\"]\n",
    "sh_data_0423_pred[\"pred_max\"] = sh_data_0423_pred[\"ci_max\"]\n",
    "sh_data_0423_pred = sh_data_0423_pred.loc[:,[\"date\",\"total_affected\",\"pred_affected\",\"pred_min\",\"pred_max\"]]\n",
    "sh_data_0423_pred[\"phase\"] = 0"
   ]
  },
  {
   "cell_type": "code",
   "execution_count": 42,
   "id": "57248a35-7728-4a07-8057-be20423fa806",
   "metadata": {
    "execution": {
     "iopub.execute_input": "2022-11-25T04:15:43.721877Z",
     "iopub.status.busy": "2022-11-25T04:15:43.721041Z",
     "iopub.status.idle": "2022-11-25T04:15:43.732488Z",
     "shell.execute_reply": "2022-11-25T04:15:43.731326Z",
     "shell.execute_reply.started": "2022-11-25T04:15:43.721845Z"
    },
    "tags": []
   },
   "outputs": [],
   "source": [
    "pd.concat([sh_data_0423, sh_data_0423_pred], axis=0).to_csv(\"viscovid_sh_test.csv\", index=False)"
   ]
  },
  {
   "cell_type": "code",
   "execution_count": null,
   "id": "423bee2a-2195-4a5a-81d7-9c465914e2de",
   "metadata": {},
   "outputs": [],
   "source": []
  }
 ],
 "metadata": {
  "kernelspec": {
   "display_name": "Python 3 (ipykernel)",
   "language": "python",
   "name": "python3"
  },
  "language_info": {
   "codemirror_mode": {
    "name": "ipython",
    "version": 3
   },
   "file_extension": ".py",
   "mimetype": "text/x-python",
   "name": "python",
   "nbconvert_exporter": "python",
   "pygments_lexer": "ipython3",
   "version": "3.7.12"
  }
 },
 "nbformat": 4,
 "nbformat_minor": 5
}
